{
 "cells": [
  {
   "cell_type": "code",
   "execution_count": 2,
   "source": [
    "import pymongo\n",
    "import json\n",
    "from pymongo import MongoClient, InsertOne\n",
    "from db_creation import url_connection"
   ],
   "outputs": [],
   "metadata": {}
  },
  {
   "cell_type": "code",
   "execution_count": 3,
   "source": [
    "client= MongoClient(url_connection)\n",
    "db = client['Euro_cup_2020']\n",
    "collection = db.players\n",
    "requesting = []"
   ],
   "outputs": [],
   "metadata": {}
  },
  {
   "cell_type": "code",
   "execution_count": 4,
   "source": [
    "with open('../data/team_players.json') as f:\n",
    "    file_data = json.load(f)\n",
    "if isinstance(file_data, list):\n",
    "    collection.insert_many(file_data)\n",
    "else:\n",
    "    collection.insert_one(file_data)"
   ],
   "outputs": [],
   "metadata": {}
  }
 ],
 "metadata": {
  "kernelspec": {
   "name": "python3",
   "display_name": "Python 3.9.7 64-bit ('euro': conda)"
  },
  "language_info": {
   "codemirror_mode": {
    "name": "ipython",
    "version": 3
   },
   "file_extension": ".py",
   "mimetype": "text/x-python",
   "name": "python",
   "nbconvert_exporter": "python",
   "pygments_lexer": "ipython3",
   "version": "3.9.7"
  },
  "interpreter": {
   "hash": "a8cd1bf1fa1cdeb170692d6ed6e94bf4b58b2208b382ce49316ace50de59c7c1"
  }
 },
 "nbformat": 4,
 "nbformat_minor": 5
}